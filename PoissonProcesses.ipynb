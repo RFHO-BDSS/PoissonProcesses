{
 "cells": [
  {
   "cell_type": "markdown",
   "metadata": {},
   "source": [
    "# Example"
   ]
  },
  {
   "cell_type": "markdown",
   "metadata": {},
   "source": [
    "Below I give a simple example to get you started with Pandas."
   ]
  },
  {
   "cell_type": "code",
   "execution_count": 94,
   "metadata": {
    "collapsed": true
   },
   "outputs": [],
   "source": [
    "# initial imports and setup\n",
    "%matplotlib inline\n",
    "# import pandas as pd\n",
    "import scipy.constants\n",
    "import numpy as np\n",
    "import matplotlib.pyplot as plt\n",
    "import math\n",
    "import csv\n",
    "import scipy as sp\n",
    "from scipy.optimize import minimize\n",
    "from matplotlib.patches import Ellipse\n",
    "import scipy.interpolate as interpolate"
   ]
  },
  {
   "cell_type": "markdown",
   "metadata": {},
   "source": [
    "**0.1 Poisson Processes**"
   ]
  },
  {
   "cell_type": "markdown",
   "metadata": {
    "collapsed": false
   },
   "source": [
    "**a)** If p$\\Delta t$ is the probability that someone arrives within the small time interval\n",
    "$\\Delta t$, then what is the probability that no one arrives within this small time\n",
    "interval?"
   ]
  },
  {
   "cell_type": "markdown",
   "metadata": {
    "collapsed": false
   },
   "source": [
    "$P(0,t_0 + \\Delta t, t_0) = 1 - p \\Delta t $"
   ]
  },
  {
   "cell_type": "code",
   "execution_count": null,
   "metadata": {
    "collapsed": true
   },
   "outputs": [],
   "source": []
  },
  {
   "cell_type": "markdown",
   "metadata": {
    "collapsed": true
   },
   "source": [
    "**b)** Express the probability $P(n; t+\\Delta t; t_0)$ in terms of probabilities $P(n - 1; t; t_0)$ and $P(n; t; t_0)$."
   ]
  },
  {
   "cell_type": "markdown",
   "metadata": {},
   "source": [
    "$$\n",
    "P(n; t+\\Delta t; t_0) = p\\Delta t P(n - 1; t; t_0) + (1 - p\\Delta t ) P(n; t; t_0)\n",
    "$$"
   ]
  },
  {
   "cell_type": "code",
   "execution_count": null,
   "metadata": {
    "collapsed": true
   },
   "outputs": [],
   "source": []
  },
  {
   "cell_type": "markdown",
   "metadata": {},
   "source": [
    "**c)** Derive from this expression the differential equation\n",
    "\n",
    "$$ \n",
    "\\frac{\\partial}{\\partial t} P(n; t; t_0) = -pP(n; t; t_0) + pP(n - 1; t; t_0)\n",
    "$$"
   ]
  },
  {
   "cell_type": "markdown",
   "metadata": {},
   "source": [
    "from **b)**\n",
    "\n",
    "$$\n",
    "P(n; t+\\Delta t; t_0) - P(n; t; t_0) = p\\Delta t P(n - 1; t; t_0) - p\\Delta t P(n; t; t_0)\n",
    "$$\n",
    "\n",
    "so\n",
    "\n",
    "$$\n",
    "\\frac{1}{\\Delta t} \\left[ P(n; t+\\Delta t; t_0) - P(n; t; t_0) \\right] = p P(n - 1; t; t_0) - p P(n; t; t_0)\n",
    "$$\n",
    "\n",
    "with $\\lim_{\\Delta t \\rightarrow 0}$\n",
    "\n",
    "$$\n",
    "\\frac{1}{\\Delta t} \\left[ P(n; t+\\Delta t; t_0) - P(n; t; t_0) \\right] = \\frac{\\partial}{\\partial t} P(n; t; t_0)\n",
    "$$\n",
    "\n",
    "so\n",
    "\n",
    "$$\n",
    "\\frac{\\partial}{\\partial t} P(n; t; t_0) = - p P(n; t; t_0) + p P(n - 1; t; t_0)\n",
    "$$"
   ]
  },
  {
   "cell_type": "code",
   "execution_count": null,
   "metadata": {
    "collapsed": true
   },
   "outputs": [],
   "source": []
  },
  {
   "cell_type": "markdown",
   "metadata": {},
   "source": [
    "**d)** Now also express the probability $P(0; t+\\Delta t; t_0)$ of having no visitors in\n",
    "terms of probabilities at time t, and derive from this the differential equation\n",
    "$$\n",
    "\\frac{\\partial}{\\partial t} P(0; t; t_0) = -p P(0; t; t_0)\n",
    "$$"
   ]
  },
  {
   "cell_type": "markdown",
   "metadata": {},
   "source": [
    "the probability of zero guest at $t + \\Delta t$ is given by\n",
    "\n",
    "$$\n",
    "\\begin{aligned}\n",
    "P(0,t + \\Delta t, t_0) &= (1 - p\\Delta t)^{\\frac{t + \\Delta t}{ \\Delta t }}\\\\\n",
    "&= (1 - p\\Delta t)^{\\frac{t}{ \\Delta t }}(1 - \\Delta t) \\\\\n",
    "& = (1 - p\\Delta t)^{\\frac{t}{ \\Delta t }} - \\Delta t(1 - p\\Delta t)^{\\frac{t}{ \\Delta t }}\\\\\n",
    "&= P(0,t, t_0) - p\\Delta  P(0,t, t_0) \n",
    "\\end{aligned}\n",
    "$$\n",
    "\n",
    "rearranging this\n",
    "\n",
    "$$\n",
    "\\frac{1}{\\Delta t} \\left[P(0,t + \\Delta t, t_0) - P(0,t,t_0)\\right] = -p P(0,t,t_0)\n",
    "$$\n",
    "\n",
    "with $\\lim_{\\Delta t \\rightarrow 0}$\n",
    "\n",
    "$$\n",
    "\\frac{1}{\\Delta t} \\left[P(0,t + \\Delta t, t_0) - P(0,t,t_0)\\right] = \\frac{\\partial}{\\partial t} P(0; t; t_0)\n",
    "$$\n",
    "\n",
    "so\n",
    "\n",
    "$$\n",
    "\\frac{\\partial}{\\partial t} P(0; t; t_0) = -p P(0,t,t_0)\n",
    "$$\n"
   ]
  },
  {
   "cell_type": "code",
   "execution_count": null,
   "metadata": {
    "collapsed": true
   },
   "outputs": [],
   "source": []
  },
  {
   "cell_type": "markdown",
   "metadata": {},
   "source": [
    "**e)** Use the ansatz $P(n; t; t_0) = A_{n}(t)\\exp{(p(t-t_0))}$ to derive that\n",
    "$$\n",
    "P(n; t; t_0) = \\frac{(p(t - t_0))^{n}}{n!} \\exp{(p(t-t_0))}\n",
    "$$\n",
    "are the solutions for the differential equations 1 and 2 that agree with the\n",
    "initial conditions."
   ]
  },
  {
   "cell_type": "markdown",
   "metadata": {},
   "source": [
    "For simplicity we start with $P(n,T)$ as the probability of n guests at time $T$ after $t_0 = 0$ so $T=t-t_0$\n",
    "\n",
    "from $(2)$\n",
    "\n",
    "$$\n",
    "\\frac{\\partial}{\\partial T} P(0,T) = -p P(0,T)\n",
    "$$\n",
    "\n",
    "so\n",
    "\n",
    "$$\n",
    "\\int \\frac{1}{P(0,T)}\\frac{\\partial}{\\partial T} P(0,T) \\partial T = \\int -p \\partial T\n",
    "$$\n",
    "\n",
    "$$\n",
    "\\Rightarrow \\log{(P(0,T))} = -pT + C_0\n",
    "$$\n",
    "\n",
    "at $T=0$ (ie $t=t_0$), $P(0,0) = 1$ $\\Rightarrow$ $C_0 = 0$ so $P(0,T) = \\exp{(-p T)}$\n",
    "\n",
    "from $(1)$\n",
    "\n",
    "$$\n",
    "\\frac{\\partial}{\\partial T} P(1,T) = p P(0,T) - p P(1,T)\n",
    "$$\n",
    "\n",
    "using $P(0,T) = \\exp{(-p T)}$\n",
    "\n",
    "$$\n",
    "\\frac{\\partial}{\\partial T} P(1,T) - p P(1,T) = p \\exp{(-p T)}\n",
    "$$\n",
    "\n",
    "$$\n",
    "\\frac{\\partial}{\\partial T} \\left[\\exp{(p T)} P(1,T) \\right] = p\n",
    "$$\n",
    "\n",
    "$$\n",
    "\\exp{(p T)} P(1,T) = p T + C_1\n",
    "$$\n",
    "\n",
    "again, from the initial, we see $C_1 = 0$ so\n",
    "\n",
    "$$\n",
    "P(1,T) = p T \\exp{(- p T)}\n",
    "$$\n",
    "\n",
    "similarly\n",
    "$$\n",
    "P(2,T) = \\frac{(pT)^{2}}{2!} \\exp{(-p T)} \\\\\n",
    "P(3,T) = \\frac{(p T)^{3}}{3!} \\exp{(-p T)}\\\\\n",
    "\\vdots \\\\\n",
    "P(n,T) = \\frac{(p T)^{n}}{n!} \\exp{(-p T)}\n",
    "$$\n",
    "\n",
    "substituting back for $T$ we have\n",
    "$$\n",
    "P(n,t, t_0) = \\frac{(p (t-t_0))^{n}}{n!} \\exp{(-p (t-t_0))}\n",
    "$$"
   ]
  },
  {
   "cell_type": "code",
   "execution_count": null,
   "metadata": {
    "collapsed": true
   },
   "outputs": [],
   "source": []
  },
  {
   "cell_type": "markdown",
   "metadata": {},
   "source": [
    "**f)** Derive from equation 3 the average/expected number of visitors coming\n",
    "to your party between time $t_0$ and $t$."
   ]
  },
  {
   "cell_type": "markdown",
   "metadata": {},
   "source": [
    "Using the taylor expansion of the exponential function for an arbitrary variable\n",
    "\n",
    "$$\n",
    "\\begin{aligned}\n",
    "\\mathbb{E}[n] &= \\sum_{n=0}^{\\infty} n P(n,t,t_0) \\\\\n",
    "& = \\exp{(-p(t-t_0))} \\sum_{n=1}^{\\infty} \\frac{(p (t-t_0))^{n}}{n!}\\\\\n",
    "& = (p (t-t_0))\\exp{(-p(t-t_0))} \\sum_{n=1}^{\\infty} \\frac{(p (t-t_0))^{n-1}}{n!}\\\\\n",
    "& = (p (t-t_0))\\exp{(-p(t-t_0))} \\exp{(p(t-t_0))}\\\\\n",
    "& = p (t-t_0)\\\\\n",
    "\\end{aligned}$$"
   ]
  },
  {
   "cell_type": "code",
   "execution_count": null,
   "metadata": {
    "collapsed": true
   },
   "outputs": [],
   "source": []
  },
  {
   "cell_type": "markdown",
   "metadata": {},
   "source": [
    "**g)** Derive from equation 3 the most likely number of visitors coming to your\n",
    "party, i.e. the number n where $P(n; t; t_0) > P(n-1; t; t_0)$ and $P(n; t; t_0) >\n",
    "P(n + 1; t; t_0)$."
   ]
  },
  {
   "cell_type": "markdown",
   "metadata": {},
   "source": [
    "This value is given by the nearest integer to the expected value so $\\lceil p(t-t_0)\\rceil - 1$ or $\\lfloor p(t-t_0)\\rfloor$"
   ]
  },
  {
   "cell_type": "code",
   "execution_count": null,
   "metadata": {
    "collapsed": true
   },
   "outputs": [],
   "source": []
  },
  {
   "cell_type": "markdown",
   "metadata": {},
   "source": [
    "**h)** Divide a period of 60 minutes into steps of \u0001t = 1 minute. For each\n",
    "step determine randomly if someone arrives according to probability p\u0001t\n",
    "and count the number of visitors after 60 minutes. Repeat this procedure\n",
    "10000 times and plot the distribution of visitors after 60 minutes in a\n",
    "histogram."
   ]
  },
  {
   "cell_type": "code",
   "execution_count": 6,
   "metadata": {
    "collapsed": false
   },
   "outputs": [
    {
     "data": {
      "image/png": "[encoded data removed]",
      "text/plain": [
       "<matplotlib.figure.Figure at 0x7f4695868940>"
      ]
     },
     "metadata": {},
     "output_type": "display_data"
    }
   ],
   "source": [
    "p = 0.5\n",
    "tstep = 60 #seconds time step\n",
    "tmax = 3600 #seconds time max\n",
    "\n",
    "def simulateUniform(tstep, tmax, p, n):\n",
    "    all_ns = np.random.rand(n,int(tmax/tstep))\n",
    "    all_ns = all_ns - (1-(tstep/60)*p)\n",
    "    all_ns = np.ceil(all_ns)\n",
    "    ns = np.sum(all_ns, axis=1)\n",
    "    plt.hist(ns, bins=10)\n",
    "    plt.show()\n",
    "\n",
    "    \n",
    "simulateUniform(tstep,tmax,p,10000)\n",
    "\n",
    "            \n",
    "    "
   ]
  },
  {
   "cell_type": "code",
   "execution_count": null,
   "metadata": {
    "collapsed": false
   },
   "outputs": [],
   "source": []
  },
  {
   "cell_type": "markdown",
   "metadata": {},
   "source": [
    "**i)** Now divide the period of 60 minutes into steps of \u0001t = 1 second and\n",
    "plot the distribution again. Also draw the Poisson distribution that you\n",
    "expect. Why are the two simulated distributions not the same? Which\n",
    "one is more accurate? And why?"
   ]
  },
  {
   "cell_type": "code",
   "execution_count": 7,
   "metadata": {
    "collapsed": false
   },
   "outputs": [
    {
     "data": {
      "image/png": "[encoded data removed]",
      "text/plain": [
       "<matplotlib.figure.Figure at 0x7f469587ad30>"
      ]
     },
     "metadata": {},
     "output_type": "display_data"
    },
    {
     "data": {
      "image/png": "[encoded data removed]",
      "text/plain": [
       "<matplotlib.figure.Figure at 0x7f469587afd0>"
      ]
     },
     "metadata": {},
     "output_type": "display_data"
    }
   ],
   "source": [
    "tstep = 1\n",
    "simulateUniform(tstep,tmax,p,10000)\n",
    "\n",
    "samples = np.random.poisson(p*(tmax/60),10000)\n",
    "plt.hist(samples,bins=10)\n",
    "plt.show()\n"
   ]
  },
  {
   "cell_type": "markdown",
   "metadata": {
    "collapsed": true
   },
   "source": [
    "The difference between the distributions can be explained by the fact that the first is a uniform distribution and the second is a Poisson distribution. ACCURATE WRT TO WHAT?"
   ]
  },
  {
   "cell_type": "markdown",
   "metadata": {},
   "source": [
    "**j)** Show that the probability for getting the nth visitor at time t is\n",
    "\n",
    "$$dtP (t; n; t_{0}) = dt\n",
    "\\frac{p(p(t - t_{0}))^{n-1} e^{p(t-t_{0})}}{(n - 1)!}$$\n",
    "\n",
    "Here $\\Delta$t is the expression for $\\Delta$t as it becomes infinitesimally small."
   ]
  },
  {
   "cell_type": "code",
   "execution_count": null,
   "metadata": {
    "collapsed": true
   },
   "outputs": [],
   "source": []
  },
  {
   "cell_type": "code",
   "execution_count": null,
   "metadata": {
    "collapsed": true
   },
   "outputs": [],
   "source": []
  },
  {
   "cell_type": "markdown",
   "metadata": {},
   "source": [
    "**k)** What is the average time it takes for the \f",
    "rst visitor to arrive (derive this)."
   ]
  },
  {
   "cell_type": "code",
   "execution_count": null,
   "metadata": {
    "collapsed": true
   },
   "outputs": [],
   "source": []
  },
  {
   "cell_type": "code",
   "execution_count": null,
   "metadata": {
    "collapsed": true
   },
   "outputs": [],
   "source": []
  },
  {
   "cell_type": "markdown",
   "metadata": {},
   "source": [
    "**l)** Write down the probability that starting from t0 the \f",
    "rst visitor arrives at\n",
    "time t1 AND from that moment t1 the next visitor arrives at time t2.\n",
    "Now allow the time that the \f",
    "rst visitor arrives to be anywhere between t0\n",
    "and t2 by integrating the probability over t1 between t0 and t2, and show\n",
    "that the result is the same as P(t2; 2; t0) the probability of the second\n",
    "visitor arriving at time t2."
   ]
  },
  {
   "cell_type": "code",
   "execution_count": null,
   "metadata": {
    "collapsed": true
   },
   "outputs": [],
   "source": []
  },
  {
   "cell_type": "code",
   "execution_count": null,
   "metadata": {
    "collapsed": true
   },
   "outputs": [],
   "source": []
  },
  {
   "cell_type": "markdown",
   "metadata": {},
   "source": [
    "**m)** Use the exponential PDF pe􀀀pt with p = 0:5 to generate random times\n",
    "until their sum is larger than 60 minutes. The number of visitors that\n",
    "arrived in the 60 minutes is one less than generated. Repeat this procedure\n",
    "10000 times and plot the number of visitors in 60 minutes in a histogram.\n",
    "Compare with the previous simulations and with the expected Poisson\n",
    "distribution."
   ]
  },
  {
   "cell_type": "code",
   "execution_count": 9,
   "metadata": {
    "collapsed": false
   },
   "outputs": [
    {
     "data": {
      "image/png": "[encoded data removed]",
      "text/plain": [
       "<matplotlib.figure.Figure at 0x7f46b40a8be0>"
      ]
     },
     "metadata": {},
     "output_type": "display_data"
    },
    {
     "data": {
      "image/png": "[encoded data removed]",
      "text/plain": [
       "<matplotlib.figure.Figure at 0x7f46a6a455c0>"
      ]
     },
     "metadata": {},
     "output_type": "display_data"
    }
   ],
   "source": [
    "def simulateExponential(p,n,tmax):\n",
    "    cs = []\n",
    "    for i in range(0,n):\n",
    "        t = 0\n",
    "        c = 0\n",
    "        while(t < tmax/60):\n",
    "            t+= np.random.exponential(scale=1/p, size=1)\n",
    "            c +=1\n",
    "        cs.append(c-1)\n",
    "    return cs\n",
    "\n",
    "p = 0.5\n",
    "n = 10000\n",
    "tmax = 3600 # in minutes\n",
    "\n",
    "cs = simulateExponential(p,n,tmax)\n",
    "plt.hist(cs)\n",
    "plt.show()\n",
    "\n",
    "samples = np.random.poisson(p*(tmax/60),10000)\n",
    "plt.hist(samples,bins=10)\n",
    "plt.show()"
   ]
  },
  {
   "cell_type": "markdown",
   "metadata": {
    "collapsed": true
   },
   "source": [
    "The distributions look very similar."
   ]
  },
  {
   "cell_type": "markdown",
   "metadata": {},
   "source": [
    "**n)** How many random times did you generate in total? How does this compare\n",
    "to the total number of steps that you previously simulated for \u0001t = 1\n",
    "second?"
   ]
  },
  {
   "cell_type": "code",
   "execution_count": null,
   "metadata": {
    "collapsed": false
   },
   "outputs": [],
   "source": [
    "print(\"Times generated:\", sum(cs))\n",
    "print(\"Steps generated uniform:\",tmax*n)"
   ]
  },
  {
   "cell_type": "markdown",
   "metadata": {
    "collapsed": true
   },
   "source": [
    "We had to compute significantly less steps using this method compared to the previous method."
   ]
  },
  {
   "cell_type": "markdown",
   "metadata": {},
   "source": [
    "**o)** Write down the probability that the nth visitor arrives at time tn AND\n",
    "no more customers come in after that between time tn and t. Now allow\n",
    "the time tn where the nth visitor arrives to be anywhere between t0 and\n",
    "t by integrating the probability over tn between t0 and t, and show that\n",
    "the result is the same as P(n; t; t0) the probability of having n visitors\n",
    "between t0 and t."
   ]
  },
  {
   "cell_type": "code",
   "execution_count": null,
   "metadata": {
    "collapsed": true
   },
   "outputs": [],
   "source": []
  },
  {
   "cell_type": "code",
   "execution_count": null,
   "metadata": {
    "collapsed": true
   },
   "outputs": [],
   "source": []
  },
  {
   "cell_type": "markdown",
   "metadata": {},
   "source": [
    "**0.2 Time dependent rate**"
   ]
  },
  {
   "cell_type": "markdown",
   "metadata": {},
   "source": [
    "**a)** The previously derived Poisson and Gamma distributions all involved the\n",
    "quantity p \u0002 (t 􀀀 t0). This is the integral of constant p over time from t0\n",
    "to t. Knowing this, write down the algebraic solutions P(n; t; t0) to the\n",
    "di\u000b",
    "erential equations when the rate is not constant."
   ]
  },
  {
   "cell_type": "code",
   "execution_count": null,
   "metadata": {
    "collapsed": true
   },
   "outputs": [],
   "source": []
  },
  {
   "cell_type": "code",
   "execution_count": null,
   "metadata": {
    "collapsed": true
   },
   "outputs": [],
   "source": []
  },
  {
   "cell_type": "markdown",
   "metadata": {},
   "source": [
    "**b)** What is the probability of no one coming, ever ('ever' is t ! 1)? Under\n",
    "what circumstances is this probability not zero? Can this happen with a\n",
    "constant rate?"
   ]
  },
  {
   "cell_type": "code",
   "execution_count": null,
   "metadata": {
    "collapsed": true
   },
   "outputs": [],
   "source": []
  },
  {
   "cell_type": "code",
   "execution_count": null,
   "metadata": {
    "collapsed": true
   },
   "outputs": [],
   "source": []
  },
  {
   "cell_type": "markdown",
   "metadata": {},
   "source": [
    "**c)** And write down P(t; n; t0) the probability of getting the nth visitor at\n",
    "time t in this case."
   ]
  },
  {
   "cell_type": "code",
   "execution_count": null,
   "metadata": {
    "collapsed": true
   },
   "outputs": [],
   "source": []
  },
  {
   "cell_type": "code",
   "execution_count": null,
   "metadata": {
    "collapsed": true
   },
   "outputs": [],
   "source": []
  },
  {
   "cell_type": "markdown",
   "metadata": {},
   "source": [
    "**d)** Starting from t0 the probability of getting your \f",
    "rst visitor at time t is\n",
    "p(t)e􀀀\n",
    "R t\n",
    "t0\n",
    "dsp(s). Write down the probability that starting from t0 the \f",
    "rst\n",
    "visitor arrives at time t1 AND from that moment t1 the next visitor arrives\n",
    "at time t2. Integrate this probability over t1 between t0 and t2 and show\n",
    "that the result is the same as P(t2; 2; t0) the probability of the second\n",
    "visitor arriving at time t2."
   ]
  },
  {
   "cell_type": "code",
   "execution_count": null,
   "metadata": {
    "collapsed": true
   },
   "outputs": [],
   "source": []
  },
  {
   "cell_type": "code",
   "execution_count": null,
   "metadata": {
    "collapsed": true
   },
   "outputs": [],
   "source": []
  },
  {
   "cell_type": "markdown",
   "metadata": {},
   "source": [
    "**e)** Make a plot of the function p(t)e􀀀\n",
    "R t\n",
    "t0\n",
    "dsp(s), with t0 at 18:00, and p(t)\n",
    "given by the hourly rates from table 1. This is the distribution of times\n",
    "where your \f",
    "rst visitor arrives. You don't have to work with actual times,\n",
    "it is also \f",
    "ne to work with e.g. the number of minutes since 18:00 to avoid\n",
    "the horrible datetime libraries. This plot will serve as a check for your\n",
    "simulation to come."
   ]
  },
  {
   "cell_type": "code",
   "execution_count": 140,
   "metadata": {
    "collapsed": false
   },
   "outputs": [
    {
     "data": {
      "image/png": "[encoded data removed]",
      "text/plain": [
       "<matplotlib.figure.Figure at 0x7f46a6a51278>"
      ]
     },
     "metadata": {},
     "output_type": "display_data"
    },
    {
     "data": {
      "image/png": "[encoded data removed]",
      "text/plain": [
       "<matplotlib.figure.Figure at 0x7f46a67f9be0>"
      ]
     },
     "metadata": {},
     "output_type": "display_data"
    },
    {
     "data": {
      "image/png": "[encoded data removed]",
      "text/plain": [
       "<matplotlib.figure.Figure at 0x7f46a683b550>"
      ]
     },
     "metadata": {},
     "output_type": "display_data"
    }
   ],
   "source": [
    "pt = [0.1,0.2,0.3,0.4,0.5,0.6,0.3,0.1]\n",
    "tStart = [0,60,120,180,240,300,360,420]\n",
    "#TEnd = [960,1020,1080,1140,1200,1260,1320,1380,1440]\n",
    "\n",
    "\n",
    "def simulateTimes(pt, tStart,n, ptStart, plot = True):\n",
    "    n = n-1\n",
    "    integr = 0\n",
    "    ps = []\n",
    "    for i in range(ptStart,60*24):\n",
    "        p = 0\n",
    "        if i < 60 + tStart[len(tStart)-1]:\n",
    "            p = pt[int(np.floor(i/60))]\n",
    "            integr += p\n",
    "            #print(i, p*np.exp(-integr))\n",
    "        ps.append((p*math.pow(integr,n)*np.exp(-integr))/sp.misc.factorial(n))\n",
    "    if(plot == True):\n",
    "        plt.plot(range(0,60*24-ptStart), ps)\n",
    "        plt.show()\n",
    "        plt.plot(range(0,60), ps[0:60])\n",
    "        plt.show()\n",
    "        plt.plot(range(50,65), ps[50:65])\n",
    "        plt.show()\n",
    "    \n",
    "    return ps\n",
    "\n",
    "ps = simulateTimes(pt,tStart,1, 0)    "
   ]
  },
  {
   "cell_type": "code",
   "execution_count": null,
   "metadata": {
    "collapsed": true
   },
   "outputs": [],
   "source": []
  },
  {
   "cell_type": "markdown",
   "metadata": {},
   "source": [
    "**f)** Make a plot of the function p(t)\n",
    "\u0010R t\n",
    "t0\n",
    "dsp(s)\n",
    "\u00119\n",
    "e􀀀\n",
    "R t\n",
    "t0\n",
    "dsp(s)=9!, with t0 at\n",
    "18:00, and p(t) given by the hourly rates from table 1. This is the distri-\n",
    "bution of times where your 10th visitor arrives. This plot will also serve\n",
    "as a check for your simulation to come."
   ]
  },
  {
   "cell_type": "code",
   "execution_count": 26,
   "metadata": {
    "collapsed": false
   },
   "outputs": [
    {
     "data": {
      "image/png": "[encoded data removed]",
      "text/plain": [
       "<matplotlib.figure.Figure at 0x7f46a6ade2b0>"
      ]
     },
     "metadata": {},
     "output_type": "display_data"
    },
    {
     "data": {
      "image/png": "[encoded data removed]",
      "text/plain": [
       "<matplotlib.figure.Figure at 0x7f46a6903080>"
      ]
     },
     "metadata": {},
     "output_type": "display_data"
    },
    {
     "data": {
      "image/png": "[encoded data removed]",
      "text/plain": [
       "<matplotlib.figure.Figure at 0x7f46b4108f60>"
      ]
     },
     "metadata": {},
     "output_type": "display_data"
    }
   ],
   "source": [
    "ps = simulateTimes(pt,tStart,10,0)"
   ]
  },
  {
   "cell_type": "code",
   "execution_count": null,
   "metadata": {
    "collapsed": true
   },
   "outputs": [],
   "source": []
  },
  {
   "cell_type": "markdown",
   "metadata": {},
   "source": [
    "**g)** Build a random number generator for p(t)e􀀀\n",
    "R t\n",
    "t0\n",
    "dsp(s) as indicated above,\n",
    "using the hourly rates from table 1. Note that t0 the point from which on\n",
    "you generate your next visitor is not \f",
    "xed but is the time that your last\n",
    "visitor arrived, so pay attention to that in your generator."
   ]
  },
  {
   "cell_type": "code",
   "execution_count": 141,
   "metadata": {
    "collapsed": false
   },
   "outputs": [
    {
     "data": {
      "text/plain": [
       "23.538910353525882"
      ]
     },
     "execution_count": 141,
     "metadata": {},
     "output_type": "execute_result"
    }
   ],
   "source": [
    "def randomGenerator(pt, tStart, ptStart):\n",
    "    x = np.random.rand()\n",
    "    n = 1\n",
    "    ps = simulateTimes(pt, tStart,n, ptStart, False)\n",
    "    hist, bin_edges = np.histogram(ps, bins=100, density=True)\n",
    "    cum_values = np.zeros(bin_edges.shape)\n",
    "    cum_values[1:] = np.cumsum(hist*np.diff(bin_edges))\n",
    "    inv_cdf = interpolate.interp1d(cum_values, bin_edges)\n",
    "    #print(x)\n",
    "    return inv_cdf(x)*(tStart[len(tStart)-1] + 60)*60\n",
    "    #ps = simulateTimes(pt, tStart,n, ptStart, False)\n",
    "    #pSum = 0\n",
    "    #for i in range(0, len(ps)):\n",
    "    #    pSum += ps[i]\n",
    "    #    if pSum > x:\n",
    "    #        return i\n",
    "    #return -1\n",
    "\n",
    "randomGenerator(pt, tStart, 0)\n",
    "    \n",
    "    "
   ]
  },
  {
   "cell_type": "code",
   "execution_count": null,
   "metadata": {
    "collapsed": true
   },
   "outputs": [],
   "source": []
  },
  {
   "cell_type": "markdown",
   "metadata": {},
   "source": [
    "**h)** Start from 18:00 and generate visitors arriving by generating random times\n",
    "until you pass 02:00 at night. Repeat this procedure 1000 times. Each\n",
    "time remember the time the first visitor arrived, the time the 10th visitor\n",
    "arrived and the total number of visitors. Make a histogram of the arrival\n",
    "time of the first visitor, and a histogram of the arrival time of the 10th\n",
    "visitor. Compare these to the plots you made before of the distributions for\n",
    "these to ensure you have built your simulation properly. Then also make\n",
    "a histogram of the total number of visitors. What is the average/expected\n",
    "number of visitors to your party from your simulation? What does the\n",
    "probability distribution (Poisson distribution) say the average should be?\n",
    "\n",
    "The plots have a similar shape to the ones that we have made before. The average/expected number of visitors from the simulation is around 90. \n",
    "$60(0.1 + 0.2 + 0.3 + 0.4) = 60$"
   ]
  },
  {
   "cell_type": "code",
   "execution_count": 142,
   "metadata": {
    "collapsed": false
   },
   "outputs": [
    {
     "name": "stdout",
     "output_type": "stream",
     "text": [
      "0\n"
     ]
    },
    {
     "ename": "IndexError",
     "evalue": "list index out of range",
     "output_type": "error",
     "traceback": [
      "\u001b[1;31m---------------------------------------------------------------------------\u001b[0m",
      "\u001b[1;31mIndexError\u001b[0m                                Traceback (most recent call last)",
      "\u001b[1;32m<ipython-input-142-95e0f68afc88>\u001b[0m in \u001b[0;36m<module>\u001b[1;34m()\u001b[0m\n\u001b[0;32m     22\u001b[0m \u001b[1;32mfor\u001b[0m \u001b[0mi\u001b[0m \u001b[1;32min\u001b[0m \u001b[0mrange\u001b[0m\u001b[1;33m(\u001b[0m\u001b[1;36m0\u001b[0m\u001b[1;33m,\u001b[0m\u001b[1;36m1000\u001b[0m\u001b[1;33m)\u001b[0m\u001b[1;33m:\u001b[0m\u001b[1;33m\u001b[0m\u001b[0m\n\u001b[0;32m     23\u001b[0m     \u001b[0mprint\u001b[0m\u001b[1;33m(\u001b[0m\u001b[0mi\u001b[0m\u001b[1;33m)\u001b[0m\u001b[1;33m\u001b[0m\u001b[0m\n\u001b[1;32m---> 24\u001b[1;33m     \u001b[0mfirst\u001b[0m\u001b[1;33m,\u001b[0m \u001b[0mtenth\u001b[0m\u001b[1;33m,\u001b[0m \u001b[0mtotal\u001b[0m \u001b[1;33m=\u001b[0m \u001b[0msimulateRandom\u001b[0m\u001b[1;33m(\u001b[0m\u001b[1;33m)\u001b[0m\u001b[1;33m\u001b[0m\u001b[0m\n\u001b[0m\u001b[0;32m     25\u001b[0m     \u001b[0mfirstTimes\u001b[0m\u001b[1;33m.\u001b[0m\u001b[0mappend\u001b[0m\u001b[1;33m(\u001b[0m\u001b[0mfirst\u001b[0m\u001b[1;33m)\u001b[0m\u001b[1;33m\u001b[0m\u001b[0m\n\u001b[0;32m     26\u001b[0m     \u001b[0mtenthTimes\u001b[0m\u001b[1;33m.\u001b[0m\u001b[0mappend\u001b[0m\u001b[1;33m(\u001b[0m\u001b[0mtenth\u001b[0m\u001b[1;33m)\u001b[0m\u001b[1;33m\u001b[0m\u001b[0m\n",
      "\u001b[1;32m<ipython-input-142-95e0f68afc88>\u001b[0m in \u001b[0;36msimulateRandom\u001b[1;34m()\u001b[0m\n\u001b[0;32m      7\u001b[0m     \u001b[0mi\u001b[0m \u001b[1;33m=\u001b[0m \u001b[1;36m0\u001b[0m\u001b[1;33m\u001b[0m\u001b[0m\n\u001b[0;32m      8\u001b[0m     \u001b[1;32mwhile\u001b[0m\u001b[1;33m(\u001b[0m\u001b[0mptStart\u001b[0m \u001b[1;33m<\u001b[0m \u001b[1;36m10\u001b[0m\u001b[1;33m*\u001b[0m\u001b[1;36m60\u001b[0m\u001b[1;33m)\u001b[0m\u001b[1;33m:\u001b[0m\u001b[1;33m\u001b[0m\u001b[0m\n\u001b[1;32m----> 9\u001b[1;33m         \u001b[0mt\u001b[0m \u001b[1;33m=\u001b[0m \u001b[0mint\u001b[0m\u001b[1;33m(\u001b[0m\u001b[0mrandomGenerator\u001b[0m\u001b[1;33m(\u001b[0m\u001b[0mpt\u001b[0m\u001b[1;33m,\u001b[0m \u001b[0mtStart\u001b[0m\u001b[1;33m,\u001b[0m \u001b[0mptStart\u001b[0m\u001b[1;33m)\u001b[0m\u001b[1;33m)\u001b[0m\u001b[1;33m\u001b[0m\u001b[0m\n\u001b[0m\u001b[0;32m     10\u001b[0m         \u001b[0mptStart\u001b[0m \u001b[1;33m+=\u001b[0m \u001b[0mt\u001b[0m\u001b[1;33m\u001b[0m\u001b[0m\n\u001b[0;32m     11\u001b[0m         \u001b[0mtotal\u001b[0m \u001b[1;33m+=\u001b[0m \u001b[1;36m1\u001b[0m\u001b[1;33m\u001b[0m\u001b[0m\n",
      "\u001b[1;32m<ipython-input-141-4ae76d43010f>\u001b[0m in \u001b[0;36mrandomGenerator\u001b[1;34m(pt, tStart, ptStart)\u001b[0m\n\u001b[0;32m      2\u001b[0m     \u001b[0mx\u001b[0m \u001b[1;33m=\u001b[0m \u001b[0mnp\u001b[0m\u001b[1;33m.\u001b[0m\u001b[0mrandom\u001b[0m\u001b[1;33m.\u001b[0m\u001b[0mrand\u001b[0m\u001b[1;33m(\u001b[0m\u001b[1;33m)\u001b[0m\u001b[1;33m\u001b[0m\u001b[0m\n\u001b[0;32m      3\u001b[0m     \u001b[0mn\u001b[0m \u001b[1;33m=\u001b[0m \u001b[1;36m1\u001b[0m\u001b[1;33m\u001b[0m\u001b[0m\n\u001b[1;32m----> 4\u001b[1;33m     \u001b[0mps\u001b[0m \u001b[1;33m=\u001b[0m \u001b[0msimulateTimes\u001b[0m\u001b[1;33m(\u001b[0m\u001b[0mpt\u001b[0m\u001b[1;33m,\u001b[0m \u001b[0mtStart\u001b[0m\u001b[1;33m,\u001b[0m\u001b[0mn\u001b[0m\u001b[1;33m,\u001b[0m \u001b[0mptStart\u001b[0m\u001b[1;33m,\u001b[0m \u001b[1;32mFalse\u001b[0m\u001b[1;33m)\u001b[0m\u001b[1;33m\u001b[0m\u001b[0m\n\u001b[0m\u001b[0;32m      5\u001b[0m     \u001b[0mhist\u001b[0m\u001b[1;33m,\u001b[0m \u001b[0mbin_edges\u001b[0m \u001b[1;33m=\u001b[0m \u001b[0mnp\u001b[0m\u001b[1;33m.\u001b[0m\u001b[0mhistogram\u001b[0m\u001b[1;33m(\u001b[0m\u001b[0mps\u001b[0m\u001b[1;33m,\u001b[0m \u001b[0mbins\u001b[0m\u001b[1;33m=\u001b[0m\u001b[1;36m100\u001b[0m\u001b[1;33m,\u001b[0m \u001b[0mdensity\u001b[0m\u001b[1;33m=\u001b[0m\u001b[1;32mTrue\u001b[0m\u001b[1;33m)\u001b[0m\u001b[1;33m\u001b[0m\u001b[0m\n\u001b[0;32m      6\u001b[0m     \u001b[0mcum_values\u001b[0m \u001b[1;33m=\u001b[0m \u001b[0mnp\u001b[0m\u001b[1;33m.\u001b[0m\u001b[0mzeros\u001b[0m\u001b[1;33m(\u001b[0m\u001b[0mbin_edges\u001b[0m\u001b[1;33m.\u001b[0m\u001b[0mshape\u001b[0m\u001b[1;33m)\u001b[0m\u001b[1;33m\u001b[0m\u001b[0m\n",
      "\u001b[1;32m<ipython-input-140-6076babdba10>\u001b[0m in \u001b[0;36msimulateTimes\u001b[1;34m(pt, tStart, n, ptStart, plot)\u001b[0m\n\u001b[0;32m     11\u001b[0m         \u001b[0mp\u001b[0m \u001b[1;33m=\u001b[0m \u001b[1;36m0\u001b[0m\u001b[1;33m\u001b[0m\u001b[0m\n\u001b[0;32m     12\u001b[0m         \u001b[1;32mif\u001b[0m \u001b[0mi\u001b[0m \u001b[1;33m<\u001b[0m \u001b[1;36m60\u001b[0m \u001b[1;33m+\u001b[0m \u001b[0mtStart\u001b[0m\u001b[1;33m[\u001b[0m\u001b[0mlen\u001b[0m\u001b[1;33m(\u001b[0m\u001b[0mtStart\u001b[0m\u001b[1;33m)\u001b[0m\u001b[1;33m-\u001b[0m\u001b[1;36m2\u001b[0m\u001b[1;33m]\u001b[0m\u001b[1;33m:\u001b[0m\u001b[1;33m\u001b[0m\u001b[0m\n\u001b[1;32m---> 13\u001b[1;33m             \u001b[0mp\u001b[0m \u001b[1;33m=\u001b[0m \u001b[0mpt\u001b[0m\u001b[1;33m[\u001b[0m\u001b[0mint\u001b[0m\u001b[1;33m(\u001b[0m\u001b[0mnp\u001b[0m\u001b[1;33m.\u001b[0m\u001b[0mfloor\u001b[0m\u001b[1;33m(\u001b[0m\u001b[0mi\u001b[0m\u001b[1;33m/\u001b[0m\u001b[1;36m60\u001b[0m\u001b[1;33m)\u001b[0m\u001b[1;33m)\u001b[0m\u001b[1;33m]\u001b[0m\u001b[1;33m\u001b[0m\u001b[0m\n\u001b[0m\u001b[0;32m     14\u001b[0m             \u001b[0mintegr\u001b[0m \u001b[1;33m+=\u001b[0m \u001b[0mp\u001b[0m\u001b[1;33m\u001b[0m\u001b[0m\n\u001b[0;32m     15\u001b[0m             \u001b[1;31m#print(i, p*np.exp(-integr))\u001b[0m\u001b[1;33m\u001b[0m\u001b[1;33m\u001b[0m\u001b[0m\n",
      "\u001b[1;31mIndexError\u001b[0m: list index out of range"
     ]
    }
   ],
   "source": [
    "def simulateRandom():\n",
    "    ptStart = 0\n",
    "    first = 0\n",
    "    tenth = 0\n",
    "    total = 0\n",
    "    ptStart = 0\n",
    "    i = 0\n",
    "    while(ptStart < 10*60):\n",
    "        t = int(randomGenerator(pt, tStart, ptStart))\n",
    "        ptStart += t\n",
    "        total += 1\n",
    "        if(i == 0):\n",
    "            first = ptStart\n",
    "        if(i == 9):\n",
    "            tenth = ptStart\n",
    "        i+=1\n",
    "    return first, tenth, total\n",
    "\n",
    "firstTimes = []\n",
    "tenthTimes = []\n",
    "totalTimes = []\n",
    "for i in range(0,1000):\n",
    "    print(i)\n",
    "    first, tenth, total = simulateRandom()\n",
    "    firstTimes.append(first)\n",
    "    tenthTimes.append(tenth)\n",
    "    totalTimes.append(total)"
   ]
  },
  {
   "cell_type": "code",
   "execution_count": 88,
   "metadata": {
    "collapsed": false
   },
   "outputs": [
    {
     "data": {
      "image/png": "[encoded data removed]",
      "text/plain": [
       "<matplotlib.figure.Figure at 0x7f46a671fd30>"
      ]
     },
     "metadata": {},
     "output_type": "display_data"
    },
    {
     "data": {
      "image/png": "[encoded data removed]",
      "text/plain": [
       "<matplotlib.figure.Figure at 0x7f46a69a1cc0>"
      ]
     },
     "metadata": {},
     "output_type": "display_data"
    },
    {
     "name": "stdout",
     "output_type": "stream",
     "text": [
      "89.588\n"
     ]
    },
    {
     "data": {
      "image/png": "[encoded data removed]",
      "text/plain": [
       "<matplotlib.figure.Figure at 0x7f46a6781b38>"
      ]
     },
     "metadata": {},
     "output_type": "display_data"
    }
   ],
   "source": [
    "plt.hist(firstTimes)\n",
    "plt.show()\n",
    "\n",
    "plt.hist(tenthTimes)\n",
    "plt.show()\n",
    "\n",
    "print(np.mean(totalTimes))\n",
    "\n",
    "plt.hist(totalTimes)\n",
    "plt.show()"
   ]
  },
  {
   "cell_type": "markdown",
   "metadata": {},
   "source": [
    "**0.3 State dependent rate**"
   ]
  },
  {
   "cell_type": "markdown",
   "metadata": {},
   "source": [
    "**a)** Starting from any time t0 the probability that the next visitor arrives\n",
    "at time t is still an exponential, but is in this case p(n; t)e􀀀\n",
    "R t\n",
    "t0\n",
    "dsp(n;s).\n",
    "Explain/interpret this exponential distribution."
   ]
  },
  {
   "cell_type": "code",
   "execution_count": null,
   "metadata": {
    "collapsed": true
   },
   "outputs": [],
   "source": []
  },
  {
   "cell_type": "code",
   "execution_count": null,
   "metadata": {
    "collapsed": true
   },
   "outputs": [],
   "source": []
  },
  {
   "cell_type": "markdown",
   "metadata": {},
   "source": [
    "**b)** Starting from t0, write down the probability of getting your \f",
    "rst visitor\n",
    "at time t1 AND from that moment t1 the second visitor at time t2."
   ]
  },
  {
   "cell_type": "code",
   "execution_count": null,
   "metadata": {
    "collapsed": true
   },
   "outputs": [],
   "source": []
  },
  {
   "cell_type": "code",
   "execution_count": null,
   "metadata": {
    "collapsed": true
   },
   "outputs": [],
   "source": []
  },
  {
   "cell_type": "markdown",
   "metadata": {},
   "source": [
    "**c)** Formally when you integrate this probability over t1 between t0 and t2,\n",
    "you end up with P(t2; 2; t0) the probability for having the second visitor\n",
    "arrive at time t2 (and the \f",
    "rst somewhere between t0 and t2). However the\n",
    "integral does not work out nicely. Why does it not work out to a similar\n",
    "expression, the Gamma distribution of equation 4, as in the previous cases?"
   ]
  },
  {
   "cell_type": "code",
   "execution_count": null,
   "metadata": {
    "collapsed": true
   },
   "outputs": [],
   "source": []
  },
  {
   "cell_type": "code",
   "execution_count": null,
   "metadata": {
    "collapsed": true
   },
   "outputs": [],
   "source": []
  },
  {
   "cell_type": "markdown",
   "metadata": {},
   "source": [
    "**d)** Build a random number generator for pn(t)e􀀀\n",
    "R t\n",
    "t0\n",
    "dspn(s). For pn(t) use the\n",
    "hourly rates from table 1 multiplied by\n",
    "e􀀀0:05(n􀀀100)\n",
    "1 + e􀀀0:05(n􀀀100)\n",
    "5\n",
    "I.e. when you have over 100 visitors then people are less and less likely to\n",
    "come in."
   ]
  },
  {
   "cell_type": "code",
   "execution_count": null,
   "metadata": {
    "collapsed": true
   },
   "outputs": [],
   "source": []
  },
  {
   "cell_type": "code",
   "execution_count": null,
   "metadata": {
    "collapsed": true
   },
   "outputs": [],
   "source": []
  },
  {
   "cell_type": "markdown",
   "metadata": {},
   "source": [
    "**e)** Start from 18:00 and generate visitors arriving by generating random times\n",
    "until you pass 02:00 at night. Repeat this procedure 1000 times. Each\n",
    "time remember the total number of visitors. Then make a histogram of\n",
    "the total number of visitors. What is the average/expected number of\n",
    "visitors to your party from your simulation?"
   ]
  },
  {
   "cell_type": "code",
   "execution_count": null,
   "metadata": {
    "collapsed": true
   },
   "outputs": [],
   "source": []
  },
  {
   "cell_type": "code",
   "execution_count": null,
   "metadata": {
    "collapsed": true
   },
   "outputs": [],
   "source": []
  }
 ],
 "metadata": {
  "anaconda-cloud": {},
  "kernelspec": {
   "display_name": "Python [Root]",
   "language": "python",
   "name": "Python [Root]"
  },
  "language_info": {
   "codemirror_mode": {
    "name": "ipython",
    "version": 3
   },
   "file_extension": ".py",
   "mimetype": "text/x-python",
   "name": "python",
   "nbconvert_exporter": "python",
   "pygments_lexer": "ipython3",
   "version": "3.5.2"
  }
 },
 "nbformat": 4,
 "nbformat_minor": 0
}
