{
 "cells": [
  {
   "cell_type": "markdown",
   "metadata": {},
   "source": [
    "# Example"
   ]
  },
  {
   "cell_type": "markdown",
   "metadata": {},
   "source": [
    "Below I give a simple example to get you started with Pandas."
   ]
  },
  {
   "cell_type": "code",
   "execution_count": 20,
   "metadata": {
    "collapsed": true
   },
   "outputs": [],
   "source": [
    "# initial imports and setup\n",
    "%matplotlib inline\n",
    "# import pandas as pd\n",
    "import scipy.constants\n",
    "import numpy as np\n",
    "import matplotlib.pyplot as plt\n",
    "import math\n",
    "import csv\n",
    "import scipy as sp\n",
    "from scipy.optimize import minimize\n",
    "from matplotlib.patches import Ellipse"
   ]
  },
  {
   "cell_type": "markdown",
   "metadata": {},
   "source": [
    "**0.1 Poisson Processes**"
   ]
  },
  {
   "cell_type": "markdown",
   "metadata": {
    "collapsed": false
   },
   "source": [
    "**a)** If p$\\Delta t$ is the probability that someone arrives within the small time interval\n",
    "$\\Delta t$, then what is the probability that no one arrives within this small time\n",
    "interval?"
   ]
  },
  {
   "cell_type": "markdown",
   "metadata": {
    "collapsed": false
   },
   "source": [
    "$P(0,t_0 + \\Delta t, t_0) = 1 - p \\Delta t $"
   ]
  },
  {
   "cell_type": "code",
   "execution_count": null,
   "metadata": {
    "collapsed": true
   },
   "outputs": [],
   "source": []
  },
  {
   "cell_type": "markdown",
   "metadata": {
    "collapsed": true
   },
   "source": [
    "**b)** Express the probability $P(n; t+\\Delta t; t_0)$ in terms of probabilities $P(n - 1; t; t_0)$ and $P(n; t; t_0)$."
   ]
  },
  {
   "cell_type": "markdown",
   "metadata": {},
   "source": [
    "$$\n",
    "P(n; t+\\Delta t; t_0) = p\\Delta t P(n - 1; t; t_0) + (1 - p\\Delta t ) P(n; t; t_0)\n",
    "$$"
   ]
  },
  {
   "cell_type": "code",
   "execution_count": null,
   "metadata": {
    "collapsed": true
   },
   "outputs": [],
   "source": []
  },
  {
   "cell_type": "markdown",
   "metadata": {},
   "source": [
    "**c)** Derive from this expression the differential equation\n",
    "\n",
    "$$ \n",
    "\\frac{\\partial}{\\partial t} P(n; t; t_0) = -pP(n; t; t_0) + pP(n - 1; t; t_0)\n",
    "$$"
   ]
  },
  {
   "cell_type": "markdown",
   "metadata": {},
   "source": [
    "from **b)**\n",
    "\n",
    "$$\n",
    "P(n; t+\\Delta t; t_0) - P(n; t; t_0) = p\\Delta t P(n - 1; t; t_0) - p\\Delta t P(n; t; t_0)\n",
    "$$\n",
    "\n",
    "so\n",
    "\n",
    "$$\n",
    "\\frac{1}{\\Delta t} \\left[ P(n; t+\\Delta t; t_0) - P(n; t; t_0) \\right] = p P(n - 1; t; t_0) - p P(n; t; t_0)\n",
    "$$\n",
    "\n",
    "with $\\lim_{\\Delta t \\rightarrow 0}$\n",
    "\n",
    "$$\n",
    "\\frac{1}{\\Delta t} \\left[ P(n; t+\\Delta t; t_0) - P(n; t; t_0) \\right] = \\frac{\\partial}{\\partial t} P(n; t; t_0)\n",
    "$$\n",
    "\n",
    "so\n",
    "\n",
    "$$\n",
    "\\frac{\\partial}{\\partial t} P(n; t; t_0) = - p P(n; t; t_0) + p P(n - 1; t; t_0)\n",
    "$$"
   ]
  },
  {
   "cell_type": "code",
   "execution_count": null,
   "metadata": {
    "collapsed": true
   },
   "outputs": [],
   "source": []
  },
  {
   "cell_type": "markdown",
   "metadata": {},
   "source": [
    "**d)** Now also express the probability $P(0; t+\\Delta t; t_0)$ of having no visitors in\n",
    "terms of probabilities at time t, and derive from this the differential equation\n",
    "$$\n",
    "\\frac{\\partial}{\\partial t} P(0; t; t_0) = -p P(0; t; t_0)\n",
    "$$"
   ]
  },
  {
   "cell_type": "markdown",
   "metadata": {},
   "source": [
    "the probability of zero guest at $t + \\Delta t$ is given by\n",
    "\n",
    "$$\n",
    "\\begin{aligned}\n",
    "P(0,t + \\Delta t, t_0) &= (1 - p\\Delta t)^{\\frac{t + \\Delta t}{ \\Delta t }}\\\\\n",
    "&= (1 - p\\Delta t)^{\\frac{t}{ \\Delta t }}(1 - \\Delta t) \\\\\n",
    "& = (1 - p\\Delta t)^{\\frac{t}{ \\Delta t }} - \\Delta t(1 - p\\Delta t)^{\\frac{t}{ \\Delta t }}\\\\\n",
    "&= P(0,t, t_0) - p\\Delta  P(0,t, t_0) \n",
    "\\end{aligned}\n",
    "$$\n",
    "\n",
    "rearranging this\n",
    "\n",
    "$$\n",
    "\\frac{1}{\\Delta t} \\left[P(0,t + \\Delta t, t_0) - P(0,t,t_0)\\right] = -p P(0,t,t_0)\n",
    "$$\n",
    "\n",
    "with $\\lim_{\\Delta t \\rightarrow 0}$\n",
    "\n",
    "$$\n",
    "\\frac{1}{\\Delta t} \\left[P(0,t + \\Delta t, t_0) - P(0,t,t_0)\\right] = \\frac{\\partial}{\\partial t} P(0; t; t_0)\n",
    "$$\n",
    "\n",
    "so\n",
    "\n",
    "$$\n",
    "\\frac{\\partial}{\\partial t} P(0; t; t_0) = -p P(0,t,t_0)\n",
    "$$\n"
   ]
  },
  {
   "cell_type": "code",
   "execution_count": null,
   "metadata": {
    "collapsed": true
   },
   "outputs": [],
   "source": []
  },
  {
   "cell_type": "markdown",
   "metadata": {},
   "source": [
    "**e)** Use the ansatz $P(n; t; t_0) = A_{n}(t)\\exp{(p(t-t_0))}$ to derive that\n",
    "$$\n",
    "P(n; t; t_0) = \\frac{(p(t - t_0))^{n}}{n!} \\exp{(p(t-t_0))}\n",
    "$$\n",
    "are the solutions for the differential equations 1 and 2 that agree with the\n",
    "initial conditions."
   ]
  },
  {
   "cell_type": "markdown",
   "metadata": {},
   "source": [
    "For simplicity we start with $P(n,T)$ as the probability of n guests at time $T$ after $t_0 = 0$ so $T=t-t_0$\n",
    "\n",
    "from $(2)$\n",
    "\n",
    "$$\n",
    "\\frac{\\partial}{\\partial T} P(0,T) = -p P(0,T)\n",
    "$$\n",
    "\n",
    "so\n",
    "\n",
    "$$\n",
    "\\int \\frac{1}{P(0,T)}\\frac{\\partial}{\\partial T} P(0,T) \\partial T = \\int -p \\partial T\n",
    "$$\n",
    "\n",
    "$$\n",
    "\\Rightarrow \\log{(P(0,T))} = -pT + C_0\n",
    "$$\n",
    "\n",
    "at $T=0$ (ie $t=t_0$), $P(0,0) = 1$ $\\Rightarrow$ $C_0 = 0$ so $P(0,T) = \\exp{(-p T)}$\n",
    "\n",
    "from $(1)$\n",
    "\n",
    "$$\n",
    "\\frac{\\partial}{\\partial T} P(1,T) = p P(0,T) - p P(1,T)\n",
    "$$\n",
    "\n",
    "using $P(0,T) = \\exp{(-p T)}$\n",
    "\n",
    "$$\n",
    "\\frac{\\partial}{\\partial T} P(1,T) - p P(1,T) = p \\exp{(-p T)}\n",
    "$$\n",
    "\n",
    "$$\n",
    "\\frac{\\partial}{\\partial T} \\left[\\exp{(p T)} P(1,T) \\right] = p\n",
    "$$\n",
    "\n",
    "$$\n",
    "\\exp{(p T)} P(1,T) = p T + C_1\n",
    "$$\n",
    "\n",
    "again, from the initial, we see $C_1 = 0$ so\n",
    "\n",
    "$$\n",
    "P(1,T) = p T \\exp{(- p T)}\n",
    "$$\n",
    "\n",
    "similarly\n",
    "$$\n",
    "P(2,T) = \\frac{(pT)^{2}}{2!} \\exp{(-p T)} \\\\\n",
    "P(3,T) = \\frac{(p T)^{3}}{3!} \\exp{(-p T)}\\\\\n",
    "\\vdots \\\\\n",
    "P(n,T) = \\frac{(p T)^{n}}{n!} \\exp{(-p T)}\n",
    "$$\n",
    "\n",
    "substituting back for $T$ we have\n",
    "$$\n",
    "P(n,t, t_0) = \\frac{(p (t-t_0))^{n}}{n!} \\exp{(-p (t-t_0))}\n",
    "$$"
   ]
  },
  {
   "cell_type": "code",
   "execution_count": null,
   "metadata": {
    "collapsed": true
   },
   "outputs": [],
   "source": []
  },
  {
   "cell_type": "markdown",
   "metadata": {},
   "source": [
    "**f)** Derive from equation 3 the average/expected number of visitors coming\n",
    "to your party between time $t_0$ and $t$."
   ]
  },
  {
   "cell_type": "markdown",
   "metadata": {},
   "source": [
    "Using the taylor expansion of the exponential function for an arbitrary variable\n",
    "\n",
    "$$\n",
    "\\begin{aligned}\n",
    "\\mathbb{E}[n] &= \\sum_{n=0}^{\\infty} n P(n,t,t_0) \\\\\n",
    "& = \\exp{(-p(t-t_0))} \\sum_{n=1}^{\\infty} \\frac{(p (t-t_0))^{n}}{n!}\\\\\n",
    "& = (p (t-t_0))\\exp{(-p(t-t_0))} \\sum_{n=1}^{\\infty} \\frac{(p (t-t_0))^{n-1}}{n!}\\\\\n",
    "& = (p (t-t_0))\\exp{(-p(t-t_0))} \\exp{(p(t-t_0))}\\\\\n",
    "& = p (t-t_0)\\\\\n",
    "\\end{aligned}$$"
   ]
  },
  {
   "cell_type": "code",
   "execution_count": null,
   "metadata": {
    "collapsed": true
   },
   "outputs": [],
   "source": []
  },
  {
   "cell_type": "markdown",
   "metadata": {},
   "source": [
    "**g)** Derive from equation 3 the most likely number of visitors coming to your\n",
    "party, i.e. the number n where $P(n; t; t_0) > P(n-1; t; t_0)$ and $P(n; t; t_0) >\n",
    "P(n + 1; t; t_0)$."
   ]
  },
  {
   "cell_type": "markdown",
   "metadata": {},
   "source": [
    "This value is given by the nearest integer to the expected value so $\\lceil p(t-t_0)\\rceil - 1$ or $\\lfloor p(t-t_0)\\rfloor$"
   ]
  },
  {
   "cell_type": "code",
   "execution_count": null,
   "metadata": {
    "collapsed": true
   },
   "outputs": [],
   "source": []
  },
  {
   "cell_type": "markdown",
   "metadata": {},
   "source": [
    "**h)** Divide a period of 60 minutes into steps of \u0001t = 1 minute. For each\n",
    "step determine randomly if someone arrives according to probability p\u0001t\n",
    "and count the number of visitors after 60 minutes. Repeat this procedure\n",
    "10000 times and plot the distribution of visitors after 60 minutes in a\n",
    "histogram."
   ]
  },
  {
   "cell_type": "code",
   "execution_count": 55,
   "metadata": {
    "collapsed": false
   },
   "outputs": [
    {
     "data": {
      "image/png": "[encoded data removed]",
      "text/plain": [
       "<matplotlib.figure.Figure at 0x7f7d98eebe10>"
      ]
     },
     "metadata": {},
     "output_type": "display_data"
    }
   ],
   "source": [
    "p = 0.5\n",
    "tstep = 60 #seconds time step\n",
    "tmax = 3600 #seconds time max\n",
    "\n",
    "def simulateUniform(tstep, tmax, p, n):\n",
    "    all_ns = np.random.rand(n,int(tmax/tstep))\n",
    "    all_ns = all_ns - (1-(tstep/60)*p)\n",
    "    all_ns = np.ceil(all_ns)\n",
    "    ns = np.sum(all_ns, axis=1)\n",
    "    plt.hist(ns, bins=10)\n",
    "    plt.show()\n",
    "\n",
    "    \n",
    "simulateUniform(tstep,tmax,p,10000)\n",
    "\n",
    "            \n",
    "    "
   ]
  },
  {
   "cell_type": "code",
   "execution_count": null,
   "metadata": {
    "collapsed": false
   },
   "outputs": [],
   "source": []
  },
  {
   "cell_type": "markdown",
   "metadata": {},
   "source": [
    "**i)** Now divide the period of 60 minutes into steps of \u0001t = 1 second and\n",
    "plot the distribution again. Also draw the Poisson distribution that you\n",
    "expect. Why are the two simulated distributions not the same? Which\n",
    "one is more accurate? And why?"
   ]
  },
  {
   "cell_type": "code",
   "execution_count": 47,
   "metadata": {
    "collapsed": false
   },
   "outputs": [
    {
     "data": {
      "image/png": "[encoded data removed]",
      "text/plain": [
       "<matplotlib.figure.Figure at 0x7f7d98af9518>"
      ]
     },
     "metadata": {},
     "output_type": "display_data"
    },
    {
     "data": {
      "image/png": "[encoded data removed]",
      "text/plain": [
       "<matplotlib.figure.Figure at 0x7f7d9a3c06d8>"
      ]
     },
     "metadata": {},
     "output_type": "display_data"
    }
   ],
   "source": [
    "tstep = 1\n",
    "simulateUniform(tstep,tmax,p,10000)\n",
    "\n",
    "samples = np.random.poisson(p*(tmax/60),10000)\n",
    "plt.hist(samples,bins=10)\n",
    "plt.show()\n"
   ]
  },
  {
   "cell_type": "markdown",
   "metadata": {
    "collapsed": true
   },
   "source": [
    "The difference between the distributions can be explained by the fact that the first is a uniform distribution and the second is a Poisson distribution. ACCURATE WRT TO WHAT?"
   ]
  },
  {
   "cell_type": "markdown",
   "metadata": {},
   "source": [
    "**j)** Show that the probability for getting the nth visitor at time t is\n",
    "\n",
    "$$dtP (t; n; t_{0}) = dt\n",
    "\\frac{p(p(t - t_{0}))^{n-1} e^{p(t-t_{0})}}{(n - 1)!}$$\n",
    "\n",
    "Here $\\Delta$t is the expression for $\\Delta$t as it becomes infinitesimally small."
   ]
  },
  {
   "cell_type": "code",
   "execution_count": null,
   "metadata": {
    "collapsed": true
   },
   "outputs": [],
   "source": []
  },
  {
   "cell_type": "code",
   "execution_count": null,
   "metadata": {
    "collapsed": true
   },
   "outputs": [],
   "source": []
  },
  {
   "cell_type": "markdown",
   "metadata": {},
   "source": [
    "**k)** What is the average time it takes for the \f",
    "rst visitor to arrive (derive this)."
   ]
  },
  {
   "cell_type": "code",
   "execution_count": null,
   "metadata": {
    "collapsed": true
   },
   "outputs": [],
   "source": []
  },
  {
   "cell_type": "code",
   "execution_count": null,
   "metadata": {
    "collapsed": true
   },
   "outputs": [],
   "source": []
  },
  {
   "cell_type": "markdown",
   "metadata": {},
   "source": [
    "**l)** Write down the probability that starting from t0 the \f",
    "rst visitor arrives at\n",
    "time t1 AND from that moment t1 the next visitor arrives at time t2.\n",
    "Now allow the time that the \f",
    "rst visitor arrives to be anywhere between t0\n",
    "and t2 by integrating the probability over t1 between t0 and t2, and show\n",
    "that the result is the same as P(t2; 2; t0) the probability of the second\n",
    "visitor arriving at time t2."
   ]
  },
  {
   "cell_type": "code",
   "execution_count": null,
   "metadata": {
    "collapsed": true
   },
   "outputs": [],
   "source": []
  },
  {
   "cell_type": "code",
   "execution_count": null,
   "metadata": {
    "collapsed": true
   },
   "outputs": [],
   "source": []
  },
  {
   "cell_type": "markdown",
   "metadata": {},
   "source": [
    "**m)** Use the exponential PDF pe􀀀pt with p = 0:5 to generate random times\n",
    "until their sum is larger than 60 minutes. The number of visitors that\n",
    "arrived in the 60 minutes is one less than generated. Repeat this procedure\n",
    "10000 times and plot the number of visitors in 60 minutes in a histogram.\n",
    "Compare with the previous simulations and with the expected Poisson\n",
    "distribution."
   ]
  },
  {
   "cell_type": "code",
   "execution_count": 65,
   "metadata": {
    "collapsed": false
   },
   "outputs": [
    {
     "data": {
      "image/png": "[encoded data removed]",
      "text/plain": [
       "<matplotlib.figure.Figure at 0x7f7d9b36e358>"
      ]
     },
     "metadata": {},
     "output_type": "display_data"
    },
    {
     "data": {
      "image/png": "[encoded data removed]",
      "text/plain": [
       "<matplotlib.figure.Figure at 0x7f7d98afc4e0>"
      ]
     },
     "metadata": {},
     "output_type": "display_data"
    }
   ],
   "source": [
    "def simulateExponential(p,n,tmax):\n",
    "    cs = []\n",
    "    for i in range(0,n):\n",
    "        t = 0\n",
    "        c = 0\n",
    "        while(t < tmax/60):\n",
    "            t+= np.random.exponential(scale=1/p, size=1)\n",
    "            c +=1\n",
    "        cs.append(c-1)\n",
    "    return cs\n",
    "\n",
    "p = 0.5\n",
    "n = 10000\n",
    "tmax = 3600 # in minutes\n",
    "\n",
    "cs = simulateExponential(p,n,tmax)\n",
    "plt.hist(cs)\n",
    "plt.show()\n",
    "\n",
    "samples = np.random.poisson(p*(tmax/60),10000)\n",
    "plt.hist(samples,bins=10)\n",
    "plt.show()"
   ]
  },
  {
   "cell_type": "markdown",
   "metadata": {
    "collapsed": true
   },
   "source": [
    "The distributions look very similar."
   ]
  },
  {
   "cell_type": "markdown",
   "metadata": {},
   "source": [
    "**n)** How many random times did you generate in total? How does this compare\n",
    "to the total number of steps that you previously simulated for \u0001t = 1\n",
    "second?"
   ]
  },
  {
   "cell_type": "code",
   "execution_count": 69,
   "metadata": {
    "collapsed": false
   },
   "outputs": [
    {
     "name": "stdout",
     "output_type": "stream",
     "text": [
      "Times generated: 300620\n",
      "Times generated uniform: 36000000\n"
     ]
    }
   ],
   "source": [
    "print(\"Times generated:\", sum(cs))\n",
    "print(\"Steps generated uniform:\",tmax*n)"
   ]
  },
  {
   "cell_type": "markdown",
   "metadata": {
    "collapsed": true
   },
   "source": [
    "We had to compute significantly less steps using this method compared to the previous method."
   ]
  },
  {
   "cell_type": "markdown",
   "metadata": {},
   "source": [
    "**o)** Write down the probability that the nth visitor arrives at time tn AND\n",
    "no more customers come in after that between time tn and t. Now allow\n",
    "the time tn where the nth visitor arrives to be anywhere between t0 and\n",
    "t by integrating the probability over tn between t0 and t, and show that\n",
    "the result is the same as P(n; t; t0) the probability of having n visitors\n",
    "between t0 and t."
   ]
  },
  {
   "cell_type": "code",
   "execution_count": null,
   "metadata": {
    "collapsed": true
   },
   "outputs": [],
   "source": []
  },
  {
   "cell_type": "code",
   "execution_count": null,
   "metadata": {
    "collapsed": true
   },
   "outputs": [],
   "source": []
  },
  {
   "cell_type": "markdown",
   "metadata": {},
   "source": [
    "**0.2 Time dependent rate**"
   ]
  },
  {
   "cell_type": "markdown",
   "metadata": {},
   "source": [
    "**a)** The previously derived Poisson and Gamma distributions all involved the\n",
    "quantity p \u0002 (t 􀀀 t0). This is the integral of constant p over time from t0\n",
    "to t. Knowing this, write down the algebraic solutions P(n; t; t0) to the\n",
    "di\u000b",
    "erential equations when the rate is not constant."
   ]
  },
  {
   "cell_type": "code",
   "execution_count": null,
   "metadata": {
    "collapsed": true
   },
   "outputs": [],
   "source": []
  },
  {
   "cell_type": "code",
   "execution_count": null,
   "metadata": {
    "collapsed": true
   },
   "outputs": [],
   "source": []
  },
  {
   "cell_type": "markdown",
   "metadata": {},
   "source": [
    "**b)** What is the probability of no one coming, ever ('ever' is t ! 1)? Under\n",
    "what circumstances is this probability not zero? Can this happen with a\n",
    "constant rate?"
   ]
  },
  {
   "cell_type": "code",
   "execution_count": null,
   "metadata": {
    "collapsed": true
   },
   "outputs": [],
   "source": []
  },
  {
   "cell_type": "code",
   "execution_count": null,
   "metadata": {
    "collapsed": true
   },
   "outputs": [],
   "source": []
  },
  {
   "cell_type": "markdown",
   "metadata": {},
   "source": [
    "**c)** And write down P(t; n; t0) the probability of getting the nth visitor at\n",
    "time t in this case."
   ]
  },
  {
   "cell_type": "code",
   "execution_count": null,
   "metadata": {
    "collapsed": true
   },
   "outputs": [],
   "source": []
  },
  {
   "cell_type": "code",
   "execution_count": null,
   "metadata": {
    "collapsed": true
   },
   "outputs": [],
   "source": []
  },
  {
   "cell_type": "markdown",
   "metadata": {},
   "source": [
    "**d)** Starting from t0 the probability of getting your \f",
    "rst visitor at time t is\n",
    "p(t)e􀀀\n",
    "R t\n",
    "t0\n",
    "dsp(s). Write down the probability that starting from t0 the \f",
    "rst\n",
    "visitor arrives at time t1 AND from that moment t1 the next visitor arrives\n",
    "at time t2. Integrate this probability over t1 between t0 and t2 and show\n",
    "that the result is the same as P(t2; 2; t0) the probability of the second\n",
    "visitor arriving at time t2."
   ]
  },
  {
   "cell_type": "code",
   "execution_count": null,
   "metadata": {
    "collapsed": true
   },
   "outputs": [],
   "source": []
  },
  {
   "cell_type": "code",
   "execution_count": null,
   "metadata": {
    "collapsed": true
   },
   "outputs": [],
   "source": []
  },
  {
   "cell_type": "markdown",
   "metadata": {},
   "source": [
    "**e)** Make a plot of the function p(t)e􀀀\n",
    "R t\n",
    "t0\n",
    "dsp(s), with t0 at 18:00, and p(t)\n",
    "given by the hourly rates from table 1. This is the distribution of times\n",
    "where your \f",
    "rst visitor arrives. You don't have to work with actual times,\n",
    "it is also \f",
    "ne to work with e.g. the number of minutes since 18:00 to avoid\n",
    "the horrible datetime libraries. This plot will serve as a check for your\n",
    "simulation to come."
   ]
  },
  {
   "cell_type": "code",
   "execution_count": 71,
   "metadata": {
    "collapsed": false
   },
   "outputs": [
    {
     "name": "stdout",
     "output_type": "stream",
     "text": [
      "1380\n"
     ]
    }
   ],
   "source": [
    "pt = [0.1,0.2,0.3,0.4,0.5,0.6,0.3,0.1,0]\n",
    "TStart = [0,60,120,180,240,300,360,420]\n",
    "TEnd = [960,1020,1080,1140,1200,1260,1320,1380,1440]\n",
    "\n",
    "\n",
    "def simulateTimes(pt, TStart, TEnd):\n",
    "    integr = 0\n",
    "    for i in range(0,TEnd[len(TEnd)-1]):\n",
    "        if i < len(TStart):\n",
    "            p = pt[np.floor(i/60)]\n",
    "        else:\n",
    "            p = pt[np.floor(len(TStart))]\n",
    "        integr = integr + p\n"
   ]
  },
  {
   "cell_type": "code",
   "execution_count": null,
   "metadata": {
    "collapsed": true
   },
   "outputs": [],
   "source": []
  },
  {
   "cell_type": "markdown",
   "metadata": {},
   "source": [
    "**f)** Make a plot of the function p(t)\n",
    "\u0010R t\n",
    "t0\n",
    "dsp(s)\n",
    "\u00119\n",
    "e􀀀\n",
    "R t\n",
    "t0\n",
    "dsp(s)=9!, with t0 at\n",
    "18:00, and p(t) given by the hourly rates from table 1. This is the distri-\n",
    "bution of times where your 10th visitor arrives. This plot will also serve\n",
    "as a check for your simulation to come."
   ]
  },
  {
   "cell_type": "code",
   "execution_count": null,
   "metadata": {
    "collapsed": true
   },
   "outputs": [],
   "source": []
  },
  {
   "cell_type": "code",
   "execution_count": null,
   "metadata": {
    "collapsed": true
   },
   "outputs": [],
   "source": []
  },
  {
   "cell_type": "markdown",
   "metadata": {},
   "source": [
    "**g)** Build a random number generator for p(t)e􀀀\n",
    "R t\n",
    "t0\n",
    "dsp(s) as indicated above,\n",
    "using the hourly rates from table 1. Note that t0 the point from which on\n",
    "you generate your next visitor is not \f",
    "xed but is the time that your last\n",
    "visitor arrived, so pay attention to that in your generator."
   ]
  },
  {
   "cell_type": "code",
   "execution_count": null,
   "metadata": {
    "collapsed": true
   },
   "outputs": [],
   "source": []
  },
  {
   "cell_type": "code",
   "execution_count": null,
   "metadata": {
    "collapsed": true
   },
   "outputs": [],
   "source": []
  },
  {
   "cell_type": "markdown",
   "metadata": {},
   "source": [
    "**h)** Start from 18:00 and generate visitors arriving by generating random times\n",
    "until you pass 02:00 at night. Repeat this procedure 1000 times. Each\n",
    "time remember the time the \f",
    "rst visitor arrived, the time the 10th visitor\n",
    "arrived and the total number of visitors. Make a histogram of the arrival\n",
    "time of the \f",
    "rst visitor, and a histogram of the arrival time of the 10th\n",
    "visitor. Compare these to the plots you made before of the distributions for\n",
    "these to ensure you have built your simulation properly. Then also make\n",
    "a histogram of the total number of visitors. What is the average/expected\n",
    "number of visitors to your party from your simulation? What does the\n",
    "probability distribution (Poisson distribution) say the average should be?"
   ]
  },
  {
   "cell_type": "code",
   "execution_count": null,
   "metadata": {
    "collapsed": true
   },
   "outputs": [],
   "source": []
  },
  {
   "cell_type": "code",
   "execution_count": null,
   "metadata": {
    "collapsed": true
   },
   "outputs": [],
   "source": []
  },
  {
   "cell_type": "markdown",
   "metadata": {},
   "source": [
    "**0.3 State dependent rate**"
   ]
  },
  {
   "cell_type": "markdown",
   "metadata": {},
   "source": [
    "**a)** Starting from any time t0 the probability that the next visitor arrives\n",
    "at time t is still an exponential, but is in this case p(n; t)e􀀀\n",
    "R t\n",
    "t0\n",
    "dsp(n;s).\n",
    "Explain/interpret this exponential distribution."
   ]
  },
  {
   "cell_type": "code",
   "execution_count": null,
   "metadata": {
    "collapsed": true
   },
   "outputs": [],
   "source": []
  },
  {
   "cell_type": "code",
   "execution_count": null,
   "metadata": {
    "collapsed": true
   },
   "outputs": [],
   "source": []
  },
  {
   "cell_type": "markdown",
   "metadata": {},
   "source": [
    "**b)** Starting from t0, write down the probability of getting your \f",
    "rst visitor\n",
    "at time t1 AND from that moment t1 the second visitor at time t2."
   ]
  },
  {
   "cell_type": "code",
   "execution_count": null,
   "metadata": {
    "collapsed": true
   },
   "outputs": [],
   "source": []
  },
  {
   "cell_type": "code",
   "execution_count": null,
   "metadata": {
    "collapsed": true
   },
   "outputs": [],
   "source": []
  },
  {
   "cell_type": "markdown",
   "metadata": {},
   "source": [
    "**c)** Formally when you integrate this probability over t1 between t0 and t2,\n",
    "you end up with P(t2; 2; t0) the probability for having the second visitor\n",
    "arrive at time t2 (and the \f",
    "rst somewhere between t0 and t2). However the\n",
    "integral does not work out nicely. Why does it not work out to a similar\n",
    "expression, the Gamma distribution of equation 4, as in the previous cases?"
   ]
  },
  {
   "cell_type": "code",
   "execution_count": null,
   "metadata": {
    "collapsed": true
   },
   "outputs": [],
   "source": []
  },
  {
   "cell_type": "code",
   "execution_count": null,
   "metadata": {
    "collapsed": true
   },
   "outputs": [],
   "source": []
  },
  {
   "cell_type": "markdown",
   "metadata": {},
   "source": [
    "**d)** Build a random number generator for pn(t)e􀀀\n",
    "R t\n",
    "t0\n",
    "dspn(s). For pn(t) use the\n",
    "hourly rates from table 1 multiplied by\n",
    "e􀀀0:05(n􀀀100)\n",
    "1 + e􀀀0:05(n􀀀100)\n",
    "5\n",
    "I.e. when you have over 100 visitors then people are less and less likely to\n",
    "come in."
   ]
  },
  {
   "cell_type": "code",
   "execution_count": null,
   "metadata": {
    "collapsed": true
   },
   "outputs": [],
   "source": []
  },
  {
   "cell_type": "code",
   "execution_count": null,
   "metadata": {
    "collapsed": true
   },
   "outputs": [],
   "source": []
  },
  {
   "cell_type": "markdown",
   "metadata": {},
   "source": [
    "**e)** Start from 18:00 and generate visitors arriving by generating random times\n",
    "until you pass 02:00 at night. Repeat this procedure 1000 times. Each\n",
    "time remember the total number of visitors. Then make a histogram of\n",
    "the total number of visitors. What is the average/expected number of\n",
    "visitors to your party from your simulation?"
   ]
  },
  {
   "cell_type": "code",
   "execution_count": null,
   "metadata": {
    "collapsed": true
   },
   "outputs": [],
   "source": []
  },
  {
   "cell_type": "code",
   "execution_count": null,
   "metadata": {
    "collapsed": true
   },
   "outputs": [],
   "source": []
  }
 ],
 "metadata": {
  "anaconda-cloud": {},
  "kernelspec": {
   "display_name": "Python [Root]",
   "language": "python",
   "name": "Python [Root]"
  },
  "language_info": {
   "codemirror_mode": {
    "name": "ipython",
    "version": 3
   },
   "file_extension": ".py",
   "mimetype": "text/x-python",
   "name": "python",
   "nbconvert_exporter": "python",
   "pygments_lexer": "ipython3",
   "version": "3.5.2"
  }
 },
 "nbformat": 4,
 "nbformat_minor": 0
}
