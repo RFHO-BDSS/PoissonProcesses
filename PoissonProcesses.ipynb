{
 "cells": [
  {
   "cell_type": "markdown",
   "metadata": {},
   "source": [
    "# Example"
   ]
  },
  {
   "cell_type": "markdown",
   "metadata": {},
   "source": [
    "Below I give a simple example to get you started with Pandas."
   ]
  },
  {
   "cell_type": "code",
   "execution_count": 1,
   "metadata": {
    "collapsed": true
   },
   "outputs": [],
   "source": [
    "# initial imports and setup\n",
    "\n",
    "# import pandas as pd\n",
    "import scipy.constants\n",
    "import numpy as np\n",
    "import matplotlib.pyplot as plt\n",
    "import math\n",
    "import csv\n",
    "import scipy as sp\n",
    "from scipy.optimize import minimize\n",
    "from matplotlib.patches import Ellipse"
   ]
  },
  {
   "cell_type": "markdown",
   "metadata": {},
   "source": [
    "**0.1 Poisson Processes**"
   ]
  },
  {
   "cell_type": "markdown",
   "metadata": {
    "collapsed": false
   },
   "source": [
    "**a)** If p\u0001t is the probability that someone arrives within the small time interval\n",
    "\u0001t, then what is the probability that no one arrives within this small time\n",
    "interval?"
   ]
  },
  {
   "cell_type": "code",
   "execution_count": null,
   "metadata": {
    "collapsed": false
   },
   "outputs": [],
   "source": []
  },
  {
   "cell_type": "code",
   "execution_count": null,
   "metadata": {
    "collapsed": true
   },
   "outputs": [],
   "source": []
  },
  {
   "cell_type": "markdown",
   "metadata": {
    "collapsed": true
   },
   "source": [
    "**b)** Express the probability P(n; t+\u0001t; t0) in terms of probabilities P(n 􀀀\n",
    "1; t; t0) and P(n; t; t0)."
   ]
  },
  {
   "cell_type": "code",
   "execution_count": null,
   "metadata": {
    "collapsed": true
   },
   "outputs": [],
   "source": []
  },
  {
   "cell_type": "code",
   "execution_count": null,
   "metadata": {
    "collapsed": true
   },
   "outputs": [],
   "source": []
  },
  {
   "cell_type": "markdown",
   "metadata": {},
   "source": [
    "**c)** Derive from this expression the di\u000b",
    "erential equation\n",
    "dP(n; t; t0)\n",
    "dt\n",
    "= 􀀀pP(n; t; t0) + pP(n 􀀀 1; t; t0)"
   ]
  },
  {
   "cell_type": "code",
   "execution_count": null,
   "metadata": {
    "collapsed": true
   },
   "outputs": [],
   "source": []
  },
  {
   "cell_type": "code",
   "execution_count": null,
   "metadata": {
    "collapsed": true
   },
   "outputs": [],
   "source": []
  },
  {
   "cell_type": "markdown",
   "metadata": {},
   "source": [
    "**d)** Now also express the probability P(0; t+\u0001t; t0) of having no visitors in\n",
    "terms of probabilities at time t, and derive from this the di\u000b",
    "erential equa-\n",
    "tion\n",
    "dP(0; t; t0)\n",
    "dt\n",
    "= 􀀀pP(0; t; t0)"
   ]
  },
  {
   "cell_type": "code",
   "execution_count": null,
   "metadata": {
    "collapsed": true
   },
   "outputs": [],
   "source": []
  },
  {
   "cell_type": "code",
   "execution_count": null,
   "metadata": {
    "collapsed": true
   },
   "outputs": [],
   "source": []
  },
  {
   "cell_type": "markdown",
   "metadata": {},
   "source": [
    "**e)** Use the ansatz P(n; t; t0) = An(t)e􀀀p(t􀀀t0) to derive that\n",
    "P(n; t; t0) =\n",
    "(p(t 􀀀 t0))n e􀀀p(t􀀀t0)\n",
    "n!\n",
    "are the solutions for the di\u000b",
    "erential equations 1 and 2 that agree with the\n",
    "initial conditions."
   ]
  },
  {
   "cell_type": "code",
   "execution_count": null,
   "metadata": {
    "collapsed": true
   },
   "outputs": [],
   "source": []
  },
  {
   "cell_type": "code",
   "execution_count": null,
   "metadata": {
    "collapsed": true
   },
   "outputs": [],
   "source": []
  },
  {
   "cell_type": "markdown",
   "metadata": {},
   "source": [
    "**f)** Derive from equation 3 the average/expected number of visitors coming\n",
    "to your party between time t0 and t."
   ]
  },
  {
   "cell_type": "code",
   "execution_count": null,
   "metadata": {
    "collapsed": true
   },
   "outputs": [],
   "source": []
  },
  {
   "cell_type": "code",
   "execution_count": null,
   "metadata": {
    "collapsed": true
   },
   "outputs": [],
   "source": []
  },
  {
   "cell_type": "markdown",
   "metadata": {},
   "source": [
    "**g)** Derive from equation 3 the most likely number of visitors coming to your\n",
    "party, i.e. the number n where P(n; t; t0) > P(n􀀀1; t; t0) and P(n; t; t0) >\n",
    "P(n + 1; t; t0)."
   ]
  },
  {
   "cell_type": "code",
   "execution_count": null,
   "metadata": {
    "collapsed": true
   },
   "outputs": [],
   "source": []
  },
  {
   "cell_type": "code",
   "execution_count": null,
   "metadata": {
    "collapsed": true
   },
   "outputs": [],
   "source": []
  },
  {
   "cell_type": "markdown",
   "metadata": {},
   "source": [
    "**h)** Divide a period of 60 minutes into steps of \u0001t = 1 minute. For each\n",
    "step determine randomly if someone arrives according to probability p\u0001t\n",
    "and count the number of visitors after 60 minutes. Repeat this procedure\n",
    "10000 times and plot the distribution of visitors after 60 minutes in a\n",
    "histogram."
   ]
  },
  {
   "cell_type": "code",
   "execution_count": null,
   "metadata": {
    "collapsed": true
   },
   "outputs": [],
   "source": []
  },
  {
   "cell_type": "code",
   "execution_count": null,
   "metadata": {
    "collapsed": true
   },
   "outputs": [],
   "source": []
  },
  {
   "cell_type": "markdown",
   "metadata": {},
   "source": [
    "**i)** Now divide the period of 60 minutes into steps of \u0001t = 1 second and\n",
    "plot the distribution again. Also draw the Poisson distribution that you\n",
    "expect. Why are the two simulated distributions not the same? Which\n",
    "one is more accurate? And why?"
   ]
  },
  {
   "cell_type": "code",
   "execution_count": null,
   "metadata": {
    "collapsed": true
   },
   "outputs": [],
   "source": []
  },
  {
   "cell_type": "code",
   "execution_count": null,
   "metadata": {
    "collapsed": true
   },
   "outputs": [],
   "source": []
  },
  {
   "cell_type": "markdown",
   "metadata": {},
   "source": [
    "**j)** Show that the probability for getting the nth visitor at time t is\n",
    "dtP (t; n; t0) = dt\n",
    "p (p(t 􀀀 t0))n􀀀1 e􀀀p(t􀀀t0)\n",
    "(n 􀀀 1)!\n",
    "(4)\n",
    "Here dt is the expression for \u0001t as it becomes in\f",
    "nitesimally small."
   ]
  },
  {
   "cell_type": "code",
   "execution_count": null,
   "metadata": {
    "collapsed": true
   },
   "outputs": [],
   "source": []
  },
  {
   "cell_type": "code",
   "execution_count": null,
   "metadata": {
    "collapsed": true
   },
   "outputs": [],
   "source": []
  },
  {
   "cell_type": "markdown",
   "metadata": {},
   "source": [
    "**k)** What is the average time it takes for the \f",
    "rst visitor to arrive (derive this)."
   ]
  },
  {
   "cell_type": "code",
   "execution_count": null,
   "metadata": {
    "collapsed": true
   },
   "outputs": [],
   "source": []
  },
  {
   "cell_type": "code",
   "execution_count": null,
   "metadata": {
    "collapsed": true
   },
   "outputs": [],
   "source": []
  },
  {
   "cell_type": "markdown",
   "metadata": {},
   "source": [
    "**l)** Write down the probability that starting from t0 the \f",
    "rst visitor arrives at\n",
    "time t1 AND from that moment t1 the next visitor arrives at time t2.\n",
    "Now allow the time that the \f",
    "rst visitor arrives to be anywhere between t0\n",
    "and t2 by integrating the probability over t1 between t0 and t2, and show\n",
    "that the result is the same as P(t2; 2; t0) the probability of the second\n",
    "visitor arriving at time t2."
   ]
  },
  {
   "cell_type": "code",
   "execution_count": null,
   "metadata": {
    "collapsed": true
   },
   "outputs": [],
   "source": []
  },
  {
   "cell_type": "code",
   "execution_count": null,
   "metadata": {
    "collapsed": true
   },
   "outputs": [],
   "source": []
  },
  {
   "cell_type": "markdown",
   "metadata": {},
   "source": [
    "**m)** Use the exponential PDF pe􀀀pt with p = 0:5 to generate random times\n",
    "until their sum is larger than 60 minutes. The number of visitors that\n",
    "arrived in the 60 minutes is one less than generated. Repeat this procedure\n",
    "10000 times and plot the number of visitors in 60 minutes in a histogram.\n",
    "Compare with the previous simulations and with the expected Poisson\n",
    "distribution."
   ]
  },
  {
   "cell_type": "code",
   "execution_count": null,
   "metadata": {
    "collapsed": true
   },
   "outputs": [],
   "source": []
  },
  {
   "cell_type": "code",
   "execution_count": null,
   "metadata": {
    "collapsed": true
   },
   "outputs": [],
   "source": []
  },
  {
   "cell_type": "markdown",
   "metadata": {},
   "source": [
    "**n)** How many random times did you generate in total? How does this compare\n",
    "to the total number of steps that you previously simulated for \u0001t = 1\n",
    "second?"
   ]
  },
  {
   "cell_type": "code",
   "execution_count": null,
   "metadata": {
    "collapsed": true
   },
   "outputs": [],
   "source": []
  },
  {
   "cell_type": "code",
   "execution_count": null,
   "metadata": {
    "collapsed": true
   },
   "outputs": [],
   "source": []
  },
  {
   "cell_type": "markdown",
   "metadata": {},
   "source": [
    "**o)** Write down the probability that the nth visitor arrives at time tn AND\n",
    "no more customers come in after that between time tn and t. Now allow\n",
    "the time tn where the nth visitor arrives to be anywhere between t0 and\n",
    "t by integrating the probability over tn between t0 and t, and show that\n",
    "the result is the same as P(n; t; t0) the probability of having n visitors\n",
    "between t0 and t."
   ]
  },
  {
   "cell_type": "code",
   "execution_count": null,
   "metadata": {
    "collapsed": true
   },
   "outputs": [],
   "source": []
  },
  {
   "cell_type": "code",
   "execution_count": null,
   "metadata": {
    "collapsed": true
   },
   "outputs": [],
   "source": []
  },
  {
   "cell_type": "markdown",
   "metadata": {},
   "source": [
    "**0.2 Time dependent rate**"
   ]
  },
  {
   "cell_type": "markdown",
   "metadata": {},
   "source": [
    "**a)** The previously derived Poisson and Gamma distributions all involved the\n",
    "quantity p \u0002 (t 􀀀 t0). This is the integral of constant p over time from t0\n",
    "to t. Knowing this, write down the algebraic solutions P(n; t; t0) to the\n",
    "di\u000b",
    "erential equations when the rate is not constant."
   ]
  },
  {
   "cell_type": "code",
   "execution_count": null,
   "metadata": {
    "collapsed": true
   },
   "outputs": [],
   "source": []
  },
  {
   "cell_type": "code",
   "execution_count": null,
   "metadata": {
    "collapsed": true
   },
   "outputs": [],
   "source": []
  },
  {
   "cell_type": "markdown",
   "metadata": {},
   "source": [
    "**b)** What is the probability of no one coming, ever ('ever' is t ! 1)? Under\n",
    "what circumstances is this probability not zero? Can this happen with a\n",
    "constant rate?"
   ]
  },
  {
   "cell_type": "code",
   "execution_count": null,
   "metadata": {
    "collapsed": true
   },
   "outputs": [],
   "source": []
  },
  {
   "cell_type": "code",
   "execution_count": null,
   "metadata": {
    "collapsed": true
   },
   "outputs": [],
   "source": []
  },
  {
   "cell_type": "markdown",
   "metadata": {},
   "source": [
    "**c)** And write down P(t; n; t0) the probability of getting the nth visitor at\n",
    "time t in this case."
   ]
  },
  {
   "cell_type": "code",
   "execution_count": null,
   "metadata": {
    "collapsed": true
   },
   "outputs": [],
   "source": []
  },
  {
   "cell_type": "code",
   "execution_count": null,
   "metadata": {
    "collapsed": true
   },
   "outputs": [],
   "source": []
  },
  {
   "cell_type": "markdown",
   "metadata": {},
   "source": [
    "**d)** Starting from t0 the probability of getting your \f",
    "rst visitor at time t is\n",
    "p(t)e􀀀\n",
    "R t\n",
    "t0\n",
    "dsp(s). Write down the probability that starting from t0 the \f",
    "rst\n",
    "visitor arrives at time t1 AND from that moment t1 the next visitor arrives\n",
    "at time t2. Integrate this probability over t1 between t0 and t2 and show\n",
    "that the result is the same as P(t2; 2; t0) the probability of the second\n",
    "visitor arriving at time t2."
   ]
  },
  {
   "cell_type": "code",
   "execution_count": null,
   "metadata": {
    "collapsed": true
   },
   "outputs": [],
   "source": []
  },
  {
   "cell_type": "code",
   "execution_count": null,
   "metadata": {
    "collapsed": true
   },
   "outputs": [],
   "source": []
  },
  {
   "cell_type": "markdown",
   "metadata": {},
   "source": [
    "**e)** Make a plot of the function p(t)e􀀀\n",
    "R t\n",
    "t0\n",
    "dsp(s), with t0 at 18:00, and p(t)\n",
    "given by the hourly rates from table 1. This is the distribution of times\n",
    "where your \f",
    "rst visitor arrives. You don't have to work with actual times,\n",
    "it is also \f",
    "ne to work with e.g. the number of minutes since 18:00 to avoid\n",
    "the horrible datetime libraries. This plot will serve as a check for your\n",
    "simulation to come."
   ]
  },
  {
   "cell_type": "code",
   "execution_count": null,
   "metadata": {
    "collapsed": true
   },
   "outputs": [],
   "source": []
  },
  {
   "cell_type": "code",
   "execution_count": null,
   "metadata": {
    "collapsed": true
   },
   "outputs": [],
   "source": []
  },
  {
   "cell_type": "markdown",
   "metadata": {},
   "source": [
    "**f)** Make a plot of the function p(t)\n",
    "\u0010R t\n",
    "t0\n",
    "dsp(s)\n",
    "\u00119\n",
    "e􀀀\n",
    "R t\n",
    "t0\n",
    "dsp(s)=9!, with t0 at\n",
    "18:00, and p(t) given by the hourly rates from table 1. This is the distri-\n",
    "bution of times where your 10th visitor arrives. This plot will also serve\n",
    "as a check for your simulation to come."
   ]
  },
  {
   "cell_type": "code",
   "execution_count": null,
   "metadata": {
    "collapsed": true
   },
   "outputs": [],
   "source": []
  },
  {
   "cell_type": "code",
   "execution_count": null,
   "metadata": {
    "collapsed": true
   },
   "outputs": [],
   "source": []
  },
  {
   "cell_type": "markdown",
   "metadata": {},
   "source": [
    "**g)** Build a random number generator for p(t)e􀀀\n",
    "R t\n",
    "t0\n",
    "dsp(s) as indicated above,\n",
    "using the hourly rates from table 1. Note that t0 the point from which on\n",
    "you generate your next visitor is not \f",
    "xed but is the time that your last\n",
    "visitor arrived, so pay attention to that in your generator."
   ]
  },
  {
   "cell_type": "code",
   "execution_count": null,
   "metadata": {
    "collapsed": true
   },
   "outputs": [],
   "source": []
  },
  {
   "cell_type": "code",
   "execution_count": null,
   "metadata": {
    "collapsed": true
   },
   "outputs": [],
   "source": []
  },
  {
   "cell_type": "markdown",
   "metadata": {},
   "source": [
    "**h)** Start from 18:00 and generate visitors arriving by generating random times\n",
    "until you pass 02:00 at night. Repeat this procedure 1000 times. Each\n",
    "time remember the time the \f",
    "rst visitor arrived, the time the 10th visitor\n",
    "arrived and the total number of visitors. Make a histogram of the arrival\n",
    "time of the \f",
    "rst visitor, and a histogram of the arrival time of the 10th\n",
    "visitor. Compare these to the plots you made before of the distributions for\n",
    "these to ensure you have built your simulation properly. Then also make\n",
    "a histogram of the total number of visitors. What is the average/expected\n",
    "number of visitors to your party from your simulation? What does the\n",
    "probability distribution (Poisson distribution) say the average should be?"
   ]
  },
  {
   "cell_type": "code",
   "execution_count": null,
   "metadata": {
    "collapsed": true
   },
   "outputs": [],
   "source": []
  },
  {
   "cell_type": "code",
   "execution_count": null,
   "metadata": {
    "collapsed": true
   },
   "outputs": [],
   "source": []
  },
  {
   "cell_type": "markdown",
   "metadata": {},
   "source": [
    "**0.3 State dependent rate**"
   ]
  },
  {
   "cell_type": "markdown",
   "metadata": {},
   "source": [
    "**a)** Starting from any time t0 the probability that the next visitor arrives\n",
    "at time t is still an exponential, but is in this case p(n; t)e􀀀\n",
    "R t\n",
    "t0\n",
    "dsp(n;s).\n",
    "Explain/interpret this exponential distribution."
   ]
  },
  {
   "cell_type": "code",
   "execution_count": null,
   "metadata": {
    "collapsed": true
   },
   "outputs": [],
   "source": []
  },
  {
   "cell_type": "code",
   "execution_count": null,
   "metadata": {
    "collapsed": true
   },
   "outputs": [],
   "source": []
  },
  {
   "cell_type": "markdown",
   "metadata": {},
   "source": [
    "**b)** Starting from t0, write down the probability of getting your \f",
    "rst visitor\n",
    "at time t1 AND from that moment t1 the second visitor at time t2."
   ]
  },
  {
   "cell_type": "code",
   "execution_count": null,
   "metadata": {
    "collapsed": true
   },
   "outputs": [],
   "source": []
  },
  {
   "cell_type": "code",
   "execution_count": null,
   "metadata": {
    "collapsed": true
   },
   "outputs": [],
   "source": []
  },
  {
   "cell_type": "markdown",
   "metadata": {},
   "source": [
    "**c)** Formally when you integrate this probability over t1 between t0 and t2,\n",
    "you end up with P(t2; 2; t0) the probability for having the second visitor\n",
    "arrive at time t2 (and the \f",
    "rst somewhere between t0 and t2). However the\n",
    "integral does not work out nicely. Why does it not work out to a similar\n",
    "expression, the Gamma distribution of equation 4, as in the previous cases?"
   ]
  },
  {
   "cell_type": "code",
   "execution_count": null,
   "metadata": {
    "collapsed": true
   },
   "outputs": [],
   "source": []
  },
  {
   "cell_type": "code",
   "execution_count": null,
   "metadata": {
    "collapsed": true
   },
   "outputs": [],
   "source": []
  },
  {
   "cell_type": "markdown",
   "metadata": {},
   "source": [
    "**d)** Build a random number generator for pn(t)e􀀀\n",
    "R t\n",
    "t0\n",
    "dspn(s). For pn(t) use the\n",
    "hourly rates from table 1 multiplied by\n",
    "e􀀀0:05(n􀀀100)\n",
    "1 + e􀀀0:05(n􀀀100)\n",
    "5\n",
    "I.e. when you have over 100 visitors then people are less and less likely to\n",
    "come in."
   ]
  },
  {
   "cell_type": "code",
   "execution_count": null,
   "metadata": {
    "collapsed": true
   },
   "outputs": [],
   "source": []
  },
  {
   "cell_type": "code",
   "execution_count": null,
   "metadata": {
    "collapsed": true
   },
   "outputs": [],
   "source": []
  },
  {
   "cell_type": "markdown",
   "metadata": {},
   "source": [
    "**e)** Start from 18:00 and generate visitors arriving by generating random times\n",
    "until you pass 02:00 at night. Repeat this procedure 1000 times. Each\n",
    "time remember the total number of visitors. Then make a histogram of\n",
    "the total number of visitors. What is the average/expected number of\n",
    "visitors to your party from your simulation?"
   ]
  },
  {
   "cell_type": "code",
   "execution_count": null,
   "metadata": {
    "collapsed": true
   },
   "outputs": [],
   "source": []
  },
  {
   "cell_type": "code",
   "execution_count": null,
   "metadata": {
    "collapsed": true
   },
   "outputs": [],
   "source": []
  }
 ],
 "metadata": {
  "kernelspec": {
   "display_name": "Python 2",
   "language": "python",
   "name": "python2"
  },
  "language_info": {
   "codemirror_mode": {
    "name": "ipython",
    "version": 2
   },
   "file_extension": ".py",
   "mimetype": "text/x-python",
   "name": "python",
   "nbconvert_exporter": "python",
   "pygments_lexer": "ipython2",
   "version": "2.7.11"
  }
 },
 "nbformat": 4,
 "nbformat_minor": 0
}
